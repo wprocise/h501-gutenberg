{
 "cells": [
  {
   "cell_type": "code",
   "execution_count": 34,
   "id": "d8f21409",
   "metadata": {},
   "outputs": [
    {
     "name": "stdout",
     "output_type": "stream",
     "text": [
      "\n",
      "# conda environments:\n",
      "#\n",
      "                       /Users/woodsprocise/Sports Analytics Big Data/.conda\n",
      "base                 * /opt/miniconda3\n",
      "big_data_bowl_env      /opt/miniconda3/envs/big_data_bowl_env\n",
      "myenv                  /opt/miniconda3/envs/myenv\n",
      "\n"
     ]
    }
   ],
   "source": [
    "! conda env list"
   ]
  },
  {
   "cell_type": "code",
   "execution_count": 35,
   "id": "d02a53ca",
   "metadata": {},
   "outputs": [
    {
     "name": "stdout",
     "output_type": "stream",
     "text": [
      "Requirement already satisfied: pydytuesday in /opt/miniconda3/lib/python3.13/site-packages (0.1.2)\n",
      "Requirement already satisfied: beautifulsoup4>=4.13.3 in /opt/miniconda3/lib/python3.13/site-packages (from pydytuesday) (4.13.5)\n",
      "Requirement already satisfied: markdown>=3.7 in /opt/miniconda3/lib/python3.13/site-packages (from pydytuesday) (3.9)\n",
      "Requirement already satisfied: pandas>=2.2.3 in /opt/miniconda3/lib/python3.13/site-packages (from pydytuesday) (2.3.2)\n",
      "Requirement already satisfied: pytz>=2025.1 in /opt/miniconda3/lib/python3.13/site-packages (from pydytuesday) (2025.2)\n",
      "Requirement already satisfied: requests>=2.32.3 in /opt/miniconda3/lib/python3.13/site-packages (from pydytuesday) (2.32.5)\n",
      "Requirement already satisfied: soupsieve>1.2 in /opt/miniconda3/lib/python3.13/site-packages (from beautifulsoup4>=4.13.3->pydytuesday) (2.8)\n",
      "Requirement already satisfied: typing-extensions>=4.0.0 in /opt/miniconda3/lib/python3.13/site-packages (from beautifulsoup4>=4.13.3->pydytuesday) (4.15.0)\n",
      "Requirement already satisfied: numpy>=1.26.0 in /opt/miniconda3/lib/python3.13/site-packages (from pandas>=2.2.3->pydytuesday) (2.3.3)\n",
      "Requirement already satisfied: python-dateutil>=2.8.2 in /opt/miniconda3/lib/python3.13/site-packages (from pandas>=2.2.3->pydytuesday) (2.9.0.post0)\n",
      "Requirement already satisfied: tzdata>=2022.7 in /opt/miniconda3/lib/python3.13/site-packages (from pandas>=2.2.3->pydytuesday) (2025.2)\n",
      "Requirement already satisfied: six>=1.5 in /opt/miniconda3/lib/python3.13/site-packages (from python-dateutil>=2.8.2->pandas>=2.2.3->pydytuesday) (1.17.0)\n",
      "Requirement already satisfied: charset_normalizer<4,>=2 in /opt/miniconda3/lib/python3.13/site-packages (from requests>=2.32.3->pydytuesday) (3.3.2)\n",
      "Requirement already satisfied: idna<4,>=2.5 in /opt/miniconda3/lib/python3.13/site-packages (from requests>=2.32.3->pydytuesday) (3.7)\n",
      "Requirement already satisfied: urllib3<3,>=1.21.1 in /opt/miniconda3/lib/python3.13/site-packages (from requests>=2.32.3->pydytuesday) (2.5.0)\n",
      "Requirement already satisfied: certifi>=2017.4.17 in /opt/miniconda3/lib/python3.13/site-packages (from requests>=2.32.3->pydytuesday) (2025.8.3)\n"
     ]
    }
   ],
   "source": [
    "import sys\n",
    "!{sys.executable} -m pip install pydytuesday\n"
   ]
  },
  {
   "cell_type": "code",
   "execution_count": 36,
   "id": "e55103a7",
   "metadata": {},
   "outputs": [
    {
     "name": "stdout",
     "output_type": "stream",
     "text": [
      "Trying to fetch README from: https://raw.githubusercontent.com/rfordatascience/tidytuesday/refs/heads/main/data/2025/2025-06-03/readme.md\n",
      "Successfully fetched README from: https://raw.githubusercontent.com/rfordatascience/tidytuesday/refs/heads/main/data/2025/2025-06-03/readme.md\n",
      "Downloading gutenberg_authors.csv...\n",
      "Successfully saved gutenberg_authors.csv to /Users/woodsprocise/h501-gutenberg/gutenberg_authors.csv\n",
      "Downloading gutenberg_languages.csv...\n",
      "Successfully saved gutenberg_languages.csv to /Users/woodsprocise/h501-gutenberg/gutenberg_languages.csv\n",
      "Downloading gutenberg_metadata.csv...\n",
      "Successfully saved gutenberg_metadata.csv to /Users/woodsprocise/h501-gutenberg/gutenberg_metadata.csv\n",
      "Downloading gutenberg_subjects.csv...\n",
      "Successfully saved gutenberg_subjects.csv to /Users/woodsprocise/h501-gutenberg/gutenberg_subjects.csv\n",
      "Downloading meta.yaml...\n",
      "Successfully saved meta.yaml to /Users/woodsprocise/h501-gutenberg/meta.yaml\n",
      "Downloading pg-logo-129x80.png...\n",
      "Successfully saved pg-logo-129x80.png to /Users/woodsprocise/h501-gutenberg/pg-logo-129x80.png\n"
     ]
    }
   ],
   "source": [
    "import pydytuesday\n",
    "import pandas\n",
    "\n",
    "# Download files from the week, which you can then read in locally\n",
    "pydytuesday.get_date('2025-06-03')\n",
    "\n",
    "# Read directly from GitHub and assign to an object\n",
    "gutenberg_authors = pandas.read_csv('https://raw.githubusercontent.com/rfordatascience/tidytuesday/main/data/2025/2025-06-03/gutenberg_authors.csv')\n",
    "gutenberg_languages = pandas.read_csv('https://raw.githubusercontent.com/rfordatascience/tidytuesday/main/data/2025/2025-06-03/gutenberg_languages.csv')\n",
    "gutenberg_metadata = pandas.read_csv('https://raw.githubusercontent.com/rfordatascience/tidytuesday/main/data/2025/2025-06-03/gutenberg_metadata.csv')\n",
    "gutenberg_subjects = pandas.read_csv('https://raw.githubusercontent.com/rfordatascience/tidytuesday/main/data/2025/2025-06-03/gutenberg_subjects.csv')"
   ]
  },
  {
   "cell_type": "code",
   "execution_count": 39,
   "id": "3943e2a0",
   "metadata": {},
   "outputs": [
    {
     "name": "stdout",
     "output_type": "stream",
     "text": [
      "{'English': [<built-in method title of str object at 0x127ebaa70>, <built-in method title of str object at 0x127eb81f0>], 'French': [<built-in method title of str object at 0x1271e3930>]}\n"
     ]
    }
   ],
   "source": [
    "# authors.py\n",
    "from utils import clean_name   # import function from utils.py\n",
    "\n",
    "gutenberg_authors = [\n",
    "    {\"name\": \"Mark Twain\", \"alias\": \"Samuel Clemens\", \"language\": \"English\"},\n",
    "    {\"name\": \"J.K. Rowling\", \"alias\": \"Robert Galbraith\", \"language\": \"English\"},\n",
    "    {\"name\": \"Victor Hugo\", \"alias\": None, \"language\": \"French\"},\n",
    "]\n",
    "\n",
    "def list_authors(gutenberg_languages=False, alias=False):\n",
    "    \"\"\"\n",
    "    List authors, optionally grouped by language or showing aliases.\n",
    "    \"\"\"\n",
    "    results = []\n",
    "\n",
    "    for a in gutenberg_authors:\n",
    "        if alias and a.get(\"alias\"):\n",
    "            results.append(clean_name(a[\"alias\"]))\n",
    "        else:\n",
    "            results.append(clean_name(a[\"name\"]))\n",
    "\n",
    "    if gutenberg_authors:\n",
    "        grouped = {}\n",
    "        for a in gutenberg_authors:\n",
    "            lang = a[\"language\"]\n",
    "            grouped.setdefault(lang, []).append(\n",
    "                clean_name(a[\"alias\"]) if alias and a.get(\"alias\") else clean_name(a[\"name\"])\n",
    "            )\n",
    "        return grouped\n",
    "\n",
    "    return results\n",
    "print(list_authors())\n"
   ]
  }
 ],
 "metadata": {
  "kernelspec": {
   "display_name": "base",
   "language": "python",
   "name": "python3"
  },
  "language_info": {
   "codemirror_mode": {
    "name": "ipython",
    "version": 3
   },
   "file_extension": ".py",
   "mimetype": "text/x-python",
   "name": "python",
   "nbconvert_exporter": "python",
   "pygments_lexer": "ipython3",
   "version": "3.13.5"
  }
 },
 "nbformat": 4,
 "nbformat_minor": 5
}
